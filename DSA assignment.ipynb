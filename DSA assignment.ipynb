{
 "cells": [
  {
   "cell_type": "markdown",
   "id": "a51789ac",
   "metadata": {},
   "source": [
    "Name:Alemtsehay Deribe\n",
    "\n",
    "\n",
    "ID :DBU1601519\n",
    "\n",
    "\n",
    "Department :Data science\n",
    "\n",
    "\n",
    "Github Adderess :\n",
    "\n",
    "\n",
    "\n",
    "Data Structure and Algorithms Assignment\n",
    "\n",
    "\n",
    "\n"
   ]
  },
  {
   "cell_type": "markdown",
   "id": "03ed8d9c",
   "metadata": {},
   "source": [
    "First we create a student dictionary\n",
    "dictionary is a versatile and widely used data structure that stores collection of data in key-valuepairs."
   ]
  },
  {
   "cell_type": "code",
   "execution_count": null,
   "id": "4f15e3e1",
   "metadata": {},
   "outputs": [],
   "source": [
    "students=[\n",
    "{\"id\":\"DBU150001\",\"name\":\"Dawit\",\"dept\":\"DS\",\"CGPA\":3.74},\n",
    "{\"id\":\"DBU150023\",\"name\":\"Kebede\",\"dept\":\"IS\",\"CGPA\":3.81},\n",
    "{\"id\":\"DBU150054\",\"name\":\"Meaza\",\"dept\":\"IS\",\"CGPA\":3.90},\n",
    "{\"id\":\"DBU150086\",\"name\":\"Zenebech\",\"dept\":\"CS\",\"CGPA\":3.45},\n",
    "{\"id\":\"DBU150054\",\"name\":\"Dagim\",\"dept\":\"DS\",\"CGPA\":3.28},\n",
    "{\"id\":\"DBU150098\",\"name\":\"Gete\",\"dept\":\"SE\",\"CGPA\":3.76},\n",
    "{\"id\":\"DBU150009\",\"name\":\"Helen\",\"dept\":\"IS\",\"CGPA\":3.94},\n",
    "{\"id\":\"DBU150021\",\"name\":\"Bisrat\",\"dept\":\"DS\",\"CGPA\":3.48},\n",
    "{\"id\":\"DBU150090\",\"name\":\"Abebech\",\"dept\":\"SE\",\"CGPA\":3.54},\n",
    "{\"id\":\"DBU150013\",\"name\":\"Genene\",\"dept\":\"CS\",\"CGPA\":3.76},\n",
    "\n",
    "]"
   ]
  },
  {
   "cell_type": "code",
   "execution_count": null,
   "id": "b9ed26ff",
   "metadata": {},
   "outputs": [
    {
     "data": {
      "text/plain": [
       "[{'id': 'DBU150001', 'name': 'Dawit', 'dept': 'DS', 'CGPA': 3.74},\n",
       " {'id': 'DBU150023', 'name': 'Kebede', 'dept': 'IS', 'CGPA': 3.81},\n",
       " {'id': 'DBU150054', 'name': 'Meaza', 'dept': 'IS', 'CGPA': 3.9},\n",
       " {'id': 'DBU150086', 'name': 'Zenebech', 'dept': 'CS', 'CGPA': 3.45},\n",
       " {'id': 'DBU150054', 'name': 'Dagim', 'dept': 'DS', 'CGPA': 3.28},\n",
       " {'id': 'DBU150098', 'name': 'Gete', 'dept': 'SE', 'CGPA': 3.76},\n",
       " {'id': 'DBU150009', 'name': 'Helen', 'dept': 'IS', 'CGPA': 3.94},\n",
       " {'id': 'DBU150021', 'name': 'Bisrat', 'dept': 'DS', 'CGPA': 3.48},\n",
       " {'id': 'DBU150090', 'name': 'Abebech', 'dept': 'SE', 'CGPA': 3.54},\n",
       " {'id': 'DBU150013', 'name': 'Genene', 'dept': 'CS', 'CGPA': 3.76}]"
      ]
     },
     "execution_count": 28,
     "metadata": {},
     "output_type": "execute_result"
    }
   ],
   "source": [
    "students"
   ]
  },
  {
   "cell_type": "code",
   "execution_count": null,
   "id": "2513a5fb",
   "metadata": {},
   "outputs": [
    {
     "name": "stdout",
     "output_type": "stream",
     "text": [
      "\n",
      "Sorted by ID (bubble Sort):\n",
      "{'id': 'DBU150001', 'name': 'Dawit', 'dept': 'DS', 'CGPA': 3.74}\n",
      "{'id': 'DBU150009', 'name': 'Helen', 'dept': 'IS', 'CGPA': 3.94}\n",
      "{'id': 'DBU150013', 'name': 'Genene', 'dept': 'CS', 'CGPA': 3.76}\n",
      "{'id': 'DBU150021', 'name': 'Bisrat', 'dept': 'DS', 'CGPA': 3.48}\n",
      "{'id': 'DBU150023', 'name': 'Kebede', 'dept': 'IS', 'CGPA': 3.81}\n",
      "{'id': 'DBU150054', 'name': 'Meaza', 'dept': 'IS', 'CGPA': 3.9}\n",
      "{'id': 'DBU150054', 'name': 'Dagim', 'dept': 'DS', 'CGPA': 3.28}\n",
      "{'id': 'DBU150086', 'name': 'Zenebech', 'dept': 'CS', 'CGPA': 3.45}\n",
      "{'id': 'DBU150090', 'name': 'Abebech', 'dept': 'SE', 'CGPA': 3.54}\n",
      "{'id': 'DBU150098', 'name': 'Gete', 'dept': 'SE', 'CGPA': 3.76}\n"
     ]
    }
   ],
   "source": [
    "def bubble_sort_by_ID(students):\n",
    "    n=len(students)\n",
    "    for i in range(n):\n",
    "        for j in range(0,n-i-1):\n",
    "            if students[j][\"id\"]> students[j+1][\"id\"]:\n",
    "                 students[j],students[j+1]=students[j+1],students[j]\n",
    "    return students             \n",
    "\n",
    "\n",
    "     \n",
    "\n",
    "print(\"\\nSorted by ID (bubble Sort):\")\n",
    "sorted_by_ID=bubble_sort_by_ID(students.copy())\n",
    "for s in sorted_by_ID:\n",
    "    print(s)\n",
    "\n",
    "\n",
    "     "
   ]
  },
  {
   "cell_type": "code",
   "execution_count": null,
   "id": "83c21d3a",
   "metadata": {},
   "outputs": [
    {
     "name": "stdout",
     "output_type": "stream",
     "text": [
      "\n",
      "Sorted by name (insertion Sort):\n",
      "{'id': 'DBU150090', 'name': 'Abebech', 'dept': 'SE', 'CGPA': 3.54}\n",
      "{'id': 'DBU150021', 'name': 'Bisrat', 'dept': 'DS', 'CGPA': 3.48}\n",
      "{'id': 'DBU150054', 'name': 'Dagim', 'dept': 'DS', 'CGPA': 3.28}\n",
      "{'id': 'DBU150001', 'name': 'Dawit', 'dept': 'DS', 'CGPA': 3.74}\n",
      "{'id': 'DBU150013', 'name': 'Genene', 'dept': 'CS', 'CGPA': 3.76}\n",
      "{'id': 'DBU150098', 'name': 'Gete', 'dept': 'SE', 'CGPA': 3.76}\n",
      "{'id': 'DBU150009', 'name': 'Helen', 'dept': 'IS', 'CGPA': 3.94}\n",
      "{'id': 'DBU150023', 'name': 'Kebede', 'dept': 'IS', 'CGPA': 3.81}\n",
      "{'id': 'DBU150054', 'name': 'Meaza', 'dept': 'IS', 'CGPA': 3.9}\n",
      "{'id': 'DBU150086', 'name': 'Zenebech', 'dept': 'CS', 'CGPA': 3.45}\n"
     ]
    }
   ],
   "source": [
    "def insertion_sort_by_Name(students):\n",
    "    for i in range(1,len(students)):\n",
    "        key=students[i]\n",
    "        j=i-1\n",
    "        while j>=0 and students[j][\"name\"]>key[\"name\"]:\n",
    "            students[j+1]=students[j]\n",
    "            j-=1\n",
    "        students[j+1]=key\n",
    "    return students        \n",
    "\n",
    "\n",
    "     \n",
    "\n",
    "print(\"\\nSorted by name (insertion Sort):\")\n",
    "sorted_by_name=insertion_sort_by_Name(students.copy())\n",
    "for s in sorted_by_name:\n",
    "    print(s)\n"
   ]
  },
  {
   "cell_type": "code",
   "execution_count": null,
   "id": "9381bb70",
   "metadata": {},
   "outputs": [
    {
     "name": "stdout",
     "output_type": "stream",
     "text": [
      "\n",
      "Sorted by cgpa descending (selection Sort):\n"
     ]
    },
    {
     "ename": "KeyError",
     "evalue": "'cgpa'",
     "output_type": "error",
     "traceback": [
      "\u001b[1;31m---------------------------------------------------------------------------\u001b[0m",
      "\u001b[1;31mKeyError\u001b[0m                                  Traceback (most recent call last)",
      "Cell \u001b[1;32mIn[34], line 15\u001b[0m\n\u001b[0;32m      9\u001b[0m     \u001b[38;5;28;01mreturn\u001b[39;00m students                \n\u001b[0;32m     14\u001b[0m \u001b[38;5;28mprint\u001b[39m(\u001b[38;5;124m\"\u001b[39m\u001b[38;5;130;01m\\n\u001b[39;00m\u001b[38;5;124mSorted by cgpa descending (selection Sort):\u001b[39m\u001b[38;5;124m\"\u001b[39m)\n\u001b[1;32m---> 15\u001b[0m sorted_by_cgpa\u001b[38;5;241m=\u001b[39mselection_sort_by_cgpa(students\u001b[38;5;241m.\u001b[39mcopy())\n\u001b[0;32m     16\u001b[0m \u001b[38;5;28;01mfor\u001b[39;00m s \u001b[38;5;129;01min\u001b[39;00m sorted_by_cgpa:\n\u001b[0;32m     17\u001b[0m     \u001b[38;5;28mprint\u001b[39m(s)\n",
      "Cell \u001b[1;32mIn[34], line 6\u001b[0m, in \u001b[0;36mselection_sort_by_cgpa\u001b[1;34m(students)\u001b[0m\n\u001b[0;32m      4\u001b[0m max_index\u001b[38;5;241m=\u001b[39mi\n\u001b[0;32m      5\u001b[0m \u001b[38;5;28;01mfor\u001b[39;00m j \u001b[38;5;129;01min\u001b[39;00m \u001b[38;5;28mrange\u001b[39m(i\u001b[38;5;241m+\u001b[39m\u001b[38;5;241m1\u001b[39m,n):\n\u001b[1;32m----> 6\u001b[0m     \u001b[38;5;28;01mif\u001b[39;00m students[j][\u001b[38;5;124m\"\u001b[39m\u001b[38;5;124mcgpa\u001b[39m\u001b[38;5;124m\"\u001b[39m]\u001b[38;5;241m>\u001b[39mstudents[max_index][\u001b[38;5;124m\"\u001b[39m\u001b[38;5;124mcgpa\u001b[39m\u001b[38;5;124m\"\u001b[39m]:\n\u001b[0;32m      7\u001b[0m         max_index\u001b[38;5;241m=\u001b[39mj\n\u001b[0;32m      8\u001b[0m students[i],students[max_index]\u001b[38;5;241m=\u001b[39mstudents[max_index],students[i]\n",
      "\u001b[1;31mKeyError\u001b[0m: 'cgpa'"
     ]
    }
   ],
   "source": [
    "def selection_sort_by_cgpa(students):\n",
    "    n=len(students)\n",
    "    for i in range(n):\n",
    "        max_index=i\n",
    "        for j in range(i+1,n):\n",
    "            if students[j][\"cgpa\"]>students[max_index][\"cgpa\"]:\n",
    "                max_index=j\n",
    "        students[i],students[max_index]=students[max_index],students[i]\n",
    "    return students                \n",
    "\n",
    "\n",
    "     \n",
    "\n",
    "print(\"\\nSorted by cgpa descending (selection Sort):\")\n",
    "sorted_by_cgpa=selection_sort_by_cgpa(students.copy())\n",
    "for s in sorted_by_cgpa:\n",
    "    print(s)\n"
   ]
  },
  {
   "cell_type": "code",
   "execution_count": null,
   "id": "6d6841ae",
   "metadata": {},
   "outputs": [],
   "source": []
  }
 ],
 "metadata": {
  "kernelspec": {
   "display_name": "base",
   "language": "python",
   "name": "python3"
  },
  "language_info": {
   "codemirror_mode": {
    "name": "ipython",
    "version": 3
   },
   "file_extension": ".py",
   "mimetype": "text/x-python",
   "name": "python",
   "nbconvert_exporter": "python",
   "pygments_lexer": "ipython3",
   "version": "3.12.7"
  }
 },
 "nbformat": 4,
 "nbformat_minor": 5
}
